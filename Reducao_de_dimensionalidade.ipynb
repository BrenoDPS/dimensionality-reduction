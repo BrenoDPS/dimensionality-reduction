{
  "nbformat": 4,
  "nbformat_minor": 0,
  "metadata": {
    "colab": {
      "provenance": []
    },
    "kernelspec": {
      "name": "python3",
      "display_name": "Python 3"
    },
    "language_info": {
      "name": "python"
    }
  },
  "cells": [
    {
      "cell_type": "code",
      "execution_count": 1,
      "metadata": {
        "id": "sfEmG6ka0uRU"
      },
      "outputs": [],
      "source": [
        "from PIL import Image\n",
        "\n",
        "def rgb_to_gray_weighted(pixel):\n",
        "    # Ponderação para obter a intensidade em escala de cinza\n",
        "    return int(0.299 * pixel[0] + 0.587 * pixel[1] + 0.114 * pixel[2])\n",
        "\n",
        "def convert_to_grayscale(image):\n",
        "    # Obtém as dimensões da imagem\n",
        "    width, height = image.size\n",
        "\n",
        "    # Cria uma nova imagem em tons de cinza\n",
        "    grayscale_image = Image.new(\"L\", (width, height))\n",
        "\n",
        "    # Converte cada pixel da imagem original para tons de cinza\n",
        "    for x in range(width):\n",
        "        for y in range(height):\n",
        "            pixel = image.getpixel((x, y))\n",
        "            intensity = rgb_to_gray_weighted(pixel)\n",
        "            grayscale_image.putpixel((x, y), intensity)\n",
        "\n",
        "    return grayscale_image\n",
        "\n",
        "# Carrega a imagem colorida\n",
        "image_color = Image.open('path-to-your-file.jpg')\n",
        "\n",
        "# Converte a imagem para tons de cinza\n",
        "image_gray = convert_to_grayscale(image_color)\n",
        "\n",
        "# Salva a imagem em tons de cinza\n",
        "image_gray.save('path-to-your-file.jpg')\n",
        "\n",
        "# Mostra a imagem original e a imagem em tons de cinza (opcional)\n",
        "image_color.show()\n",
        "image_gray.show()\n"
      ]
    },
    {
      "cell_type": "code",
      "source": [
        "# criar uma imagem em preto e branco\n",
        "from PIL import Image\n",
        "\n",
        "\n",
        "def gray_to_binary(image, threshold=128):\n",
        "\n",
        "    width, height = image.size\n",
        "\n",
        "    binary_image = Image.new(\"1\", (width, height))\n",
        "\n",
        "    for x in range(width):\n",
        "      for y in range(height):\n",
        "        pixel = image.getpixel((x, y))\n",
        "        intensity = pixel\n",
        "\n",
        "        if intensity < threshold:\n",
        "          binary_image.putpixel((x, y), 0)\n",
        "        else:\n",
        "          binary_image.putpixel((x, y), 1)\n",
        "\n",
        "    return binary_image\n",
        "\n",
        "\n",
        "image_gray = Image.open('path-to-your-file.jpg')\n",
        "\n",
        "image_binary = gray_to_binary(image_gray, threshold=128)\n",
        "\n",
        "image_binary.save('path-to-your-file.jpg')\n",
        "\n",
        "image_binary.show()\n"
      ],
      "metadata": {
        "id": "q-TmLgzZq8Bx"
      },
      "execution_count": 9,
      "outputs": []
    }
  ]
}